{
 "cells": [
  {
   "cell_type": "code",
   "execution_count": 8,
   "metadata": {},
   "outputs": [],
   "source": [
    "# imports\n",
    "import requests\n",
    "import json"
   ]
  },
  {
   "cell_type": "code",
   "execution_count": 11,
   "metadata": {},
   "outputs": [
    {
     "name": "stdout",
     "output_type": "stream",
     "text": [
      "Files downloaded successfully.\n"
     ]
    }
   ],
   "source": [
    "# load data\n",
    "\n",
    "# URL of the JSONL file\n",
    "url1 = \"http://dl.turkunlp.org/TKO_7095_2023/topic1.jsonl\"\n",
    "url2 = \"http://dl.turkunlp.org/TKO_7095_2023/topic2.jsonl\"\n",
    "\n",
    "# Send a GET request to the URL\n",
    "response1 = requests.get(url1)\n",
    "response2 = requests.get(url2)\n",
    "\n",
    "# Check if the request was successful (status code 200)\n",
    "if response1.status_code == 200 and response2.status_code == 200:\n",
    "    # Define the path where you want to save the file\n",
    "    file_path1 = \"topic1.jsonl\"\n",
    "    file_path2 = \"topic2.jsonl\"\n",
    "\n",
    "    # Open the file in binary write mode and write the content of the response\n",
    "    with open(file_path1, 'wb') as f:\n",
    "        f.write(response1.content)\n",
    "    with open(file_path2, 'wb') as f:\n",
    "        f.write(response2.content)\n",
    "\n",
    "    print(\"Files downloaded successfully.\")\n",
    "else:\n",
    "    # Print an error message if the request was unsuccessful\n",
    "    print(\"Failed to fetch data:\", response1.status_code)"
   ]
  }
 ],
 "metadata": {
  "kernelspec": {
   "display_name": "Python 3",
   "language": "python",
   "name": "python3"
  },
  "language_info": {
   "codemirror_mode": {
    "name": "ipython",
    "version": 3
   },
   "file_extension": ".py",
   "mimetype": "text/x-python",
   "name": "python",
   "nbconvert_exporter": "python",
   "pygments_lexer": "ipython3",
   "version": "3.10.2"
  }
 },
 "nbformat": 4,
 "nbformat_minor": 2
}
